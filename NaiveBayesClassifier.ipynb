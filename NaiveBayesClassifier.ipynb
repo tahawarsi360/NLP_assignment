{
  "nbformat": 4,
  "nbformat_minor": 0,
  "metadata": {
    "colab": {
      "provenance": [],
      "authorship_tag": "ABX9TyOezSj+/K6rG8IuOJDs4aPp",
      "include_colab_link": true
    },
    "kernelspec": {
      "name": "python3",
      "display_name": "Python 3"
    },
    "language_info": {
      "name": "python"
    }
  },
  "cells": [
    {
      "cell_type": "markdown",
      "metadata": {
        "id": "view-in-github",
        "colab_type": "text"
      },
      "source": [
        "<a href=\"https://colab.research.google.com/github/tahawarsi360/NLP_assignment/blob/main/NaiveBayesClassifier.ipynb\" target=\"_parent\"><img src=\"https://colab.research.google.com/assets/colab-badge.svg\" alt=\"Open In Colab\"/></a>"
      ]
    },
    {
      "cell_type": "markdown",
      "source": [
        "Apply Naïve Bayes Classifier to classify the given testing data, and predict the output\n",
        "class of the given sample."
      ],
      "metadata": {
        "id": "zb12QY5ToWYd"
      }
    },
    {
      "cell_type": "code",
      "source": [
        "X = [[1, 1, 0, 1, 1, 1],\n",
        "    [0, 1, 0, 1, 1, 0],\n",
        "    [0, 1, 0, 0, 0, 0],\n",
        "    [1, 0, 0, 1, 1, 1],\n",
        "    [0, 0, 1, 0, 0, 1],\n",
        "    [1, 1, 0, 1, 1, 0]]\n",
        "\n",
        "y = [\"Yes\", \"No\", \"Yes\", \"Yes\", \"No\", \"No\"]"
      ],
      "metadata": {
        "id": "5JSuDs-g6bCV"
      },
      "execution_count": 13,
      "outputs": []
    },
    {
      "cell_type": "code",
      "source": [
        "def train_naive_bayes(X, y):\n",
        "  # Calculate class probabilities\n",
        "  class_counts = {}\n",
        "  for label in y:\n",
        "    if label in class_counts:\n",
        "      class_counts[label] += 1\n",
        "    else:\n",
        "      class_counts[label] = 1\n",
        "\n",
        "  class_probabilities = {}\n",
        "  for label, count in class_counts.items():\n",
        "    class_probabilities[label] = count / len(y)\n",
        "\n",
        "  # Calculate feature probabilities\n",
        "  feature_counts = {}\n",
        "  for i in range(len(X)):\n",
        "    features = X[i]\n",
        "    label = y[i]\n",
        "    if label not in feature_counts:\n",
        "      feature_counts[label] = {}\n",
        "    for j, feature in enumerate(features):\n",
        "      if j not in feature_counts[label]:\n",
        "        feature_counts[label][j] = {}\n",
        "      if feature in feature_counts[label][j]:\n",
        "        feature_counts[label][j][feature] += 1\n",
        "      else:\n",
        "        feature_counts[label][j][feature] = 1\n",
        "\n",
        "  feature_probabilities = {}\n",
        "  for label, feature_counts_per_label in feature_counts.items():\n",
        "    feature_probabilities[label] = {}\n",
        "    for feature_index, feature_counts_per_index in feature_counts_per_label.items():\n",
        "      feature_probabilities[label][feature_index] = {}\n",
        "      total_counts = sum(feature_counts_per_index.values())\n",
        "      for feature, count in feature_counts_per_index.items():\n",
        "        feature_probabilities[label][feature_index][feature] = count / total_counts\n",
        "\n",
        "  return class_probabilities, feature_probabilities"
      ],
      "metadata": {
        "id": "0BAOQ0Ao6HWr"
      },
      "execution_count": 14,
      "outputs": []
    },
    {
      "cell_type": "code",
      "source": [
        "def predict_naive_bayes(class_probabilities, feature_probabilities, X):\n",
        "  y_pred = []\n",
        "  for features in X:\n",
        "    max_prob = -1\n",
        "    predicted_label = None\n",
        "    for label, class_prob in class_probabilities.items():\n",
        "      prob = class_prob\n",
        "      for feature_index, feature in enumerate(features):\n",
        "        if feature_index in feature_probabilities[label] and feature in feature_probabilities[label][feature_index]:\n",
        "          prob *= feature_probabilities[label][feature_index][feature]\n",
        "      if prob > max_prob:\n",
        "        max_prob = prob\n",
        "        predicted_label = label\n",
        "    y_pred.append(predicted_label)\n",
        "  return y_pred"
      ],
      "metadata": {
        "id": "yhZWr1x-6WWl"
      },
      "execution_count": 15,
      "outputs": []
    },
    {
      "cell_type": "code",
      "source": [
        "x_test = [[1, 0, 1, 1, 1, 1]]"
      ],
      "metadata": {
        "id": "oFPAe62HCqKS"
      },
      "execution_count": 16,
      "outputs": []
    },
    {
      "cell_type": "code",
      "source": [
        "class_probabilities, feature_probabilities = train_naive_bayes(X, y)"
      ],
      "metadata": {
        "id": "yiejLGTOliof"
      },
      "execution_count": 17,
      "outputs": []
    },
    {
      "cell_type": "code",
      "source": [
        "print( predict_naive_bayes(class_probabilities, feature_probabilities, x_test))"
      ],
      "metadata": {
        "colab": {
          "base_uri": "https://localhost:8080/"
        },
        "id": "UUbaurFLlwuS",
        "outputId": "bf7436cd-3d98-4aae-d899-03129cf9fe0f"
      },
      "execution_count": 18,
      "outputs": [
        {
          "output_type": "stream",
          "name": "stdout",
          "text": [
            "['Yes']\n"
          ]
        }
      ]
    },
    {
      "cell_type": "markdown",
      "source": [
        "Naive bayes using laplace smoothing"
      ],
      "metadata": {
        "id": "7ZwzYt9om5u-"
      }
    },
    {
      "cell_type": "code",
      "source": [
        "def train_naive_bayes_with_smoothing(X, y, alpha=1):\n",
        "    # Calculate class probabilities\n",
        "    class_counts = {}\n",
        "    for label in y:\n",
        "        if label in class_counts:\n",
        "            class_counts[label] += 1\n",
        "        else:\n",
        "            class_counts[label] = 1\n",
        "\n",
        "    class_probabilities = {}\n",
        "    for label, count in class_counts.items():\n",
        "        class_probabilities[label] = (count + alpha) / (len(y) + alpha * len(class_counts))\n",
        "\n",
        "    # Calculate feature probabilities\n",
        "    feature_counts = {}\n",
        "    for i in range(len(X)):\n",
        "        features = X[i]\n",
        "        label = y[i]\n",
        "        if label not in feature_counts:\n",
        "            feature_counts[label] = {}\n",
        "        for j, feature in enumerate(features):\n",
        "            if j not in feature_counts[label]:\n",
        "                feature_counts[label][j] = {}\n",
        "            if feature in feature_counts[label][j]:\n",
        "                feature_counts[label][j][feature] += 1\n",
        "            else:\n",
        "                feature_counts[label][j][feature] = 1\n",
        "\n",
        "    feature_probabilities = {}\n",
        "    for label, feature_counts_per_label in feature_counts.items():\n",
        "        feature_probabilities[label] = {}\n",
        "        for feature_index, feature_counts_per_index in feature_counts_per_label.items():\n",
        "            feature_probabilities[label][feature_index] = {}\n",
        "            total_counts = sum(feature_counts_per_index.values())\n",
        "            for feature, count in feature_counts_per_index.items():\n",
        "                # applying laplace smothing alpha = 1 to probabilities\n",
        "                feature_probabilities[label][feature_index][feature] = (count + alpha) / (total_counts + alpha * len(feature_counts_per_index))\n",
        "\n",
        "    return class_probabilities, feature_probabilities"
      ],
      "metadata": {
        "id": "fX6vErWcl7Iw"
      },
      "execution_count": 19,
      "outputs": []
    },
    {
      "cell_type": "code",
      "source": [
        "class_probabilities, feature_probabilities = train_naive_bayes_with_smoothing(X, y)"
      ],
      "metadata": {
        "id": "imhYExWZm92_"
      },
      "execution_count": 20,
      "outputs": []
    },
    {
      "cell_type": "code",
      "source": [
        "print( predict_naive_bayes(class_probabilities, feature_probabilities, x_test))"
      ],
      "metadata": {
        "colab": {
          "base_uri": "https://localhost:8080/"
        },
        "id": "qlnpdXtgnE6T",
        "outputId": "cb44946c-6e02-4a3a-bdad-ead0ce41011c"
      },
      "execution_count": 21,
      "outputs": [
        {
          "output_type": "stream",
          "name": "stdout",
          "text": [
            "['Yes']\n"
          ]
        }
      ]
    }
  ]
}