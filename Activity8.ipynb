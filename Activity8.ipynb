{
  "nbformat": 4,
  "nbformat_minor": 0,
  "metadata": {
    "colab": {
      "provenance": [],
      "authorship_tag": "ABX9TyM8YumUVYXBWleK7JK1opeS",
      "include_colab_link": true
    },
    "kernelspec": {
      "name": "python3",
      "display_name": "Python 3"
    },
    "language_info": {
      "name": "python"
    }
  },
  "cells": [
    {
      "cell_type": "markdown",
      "metadata": {
        "id": "view-in-github",
        "colab_type": "text"
      },
      "source": [
        "<a href=\"https://colab.research.google.com/github/tahawarsi360/NLP_assignment/blob/main/Activity8.ipynb\" target=\"_parent\"><img src=\"https://colab.research.google.com/assets/colab-badge.svg\" alt=\"Open In Colab\"/></a>"
      ]
    },
    {
      "cell_type": "markdown",
      "source": [
        "Find perplexity of the following sentence.\n",
        "\n",
        "\"I live in karachi\".\n",
        "\n",
        "What is the perplexity of the sentence according to a model that assigns P=1/26 to\n",
        "each letter?"
      ],
      "metadata": {
        "id": "Q-EueFoaZwSh"
      }
    },
    {
      "cell_type": "code",
      "source": [
        "import math"
      ],
      "metadata": {
        "id": "XSIW34SmeKse"
      },
      "execution_count": 20,
      "outputs": []
    },
    {
      "cell_type": "code",
      "source": [
        "sentence = \"I live in karachi\""
      ],
      "metadata": {
        "id": "iyWR0dQEay_Y"
      },
      "execution_count": 21,
      "outputs": []
    },
    {
      "cell_type": "code",
      "source": [
        "def word_prob(word):\n",
        "  return (1/26)**len(word)"
      ],
      "metadata": {
        "id": "sM-kR2RbVdVB"
      },
      "execution_count": 22,
      "outputs": []
    },
    {
      "cell_type": "code",
      "source": [
        "def perplexity(sentence):\n",
        "  words = sentence.split()\n",
        "  words_prob = list(map(word_prob, words))\n",
        "  PP = (1/math.prod(words_prob))**(1/len(words))\n",
        "  return PP"
      ],
      "metadata": {
        "id": "D7hww0ysZ_Y3"
      },
      "execution_count": 23,
      "outputs": []
    },
    {
      "cell_type": "code",
      "source": [
        "print(perplexity(sentence))"
      ],
      "metadata": {
        "colab": {
          "base_uri": "https://localhost:8080/"
        },
        "id": "H5MvLr9lc1MS",
        "outputId": "4b22fc34-3c96-4ea4-c240-94f4fad08338"
      },
      "execution_count": 24,
      "outputs": [
        {
          "output_type": "stream",
          "name": "stdout",
          "text": [
            "89620.36697090678\n"
          ]
        }
      ]
    },
    {
      "cell_type": "markdown",
      "source": [
        "What are unknown words? How to train the probabilities of Unknown word model?"
      ],
      "metadata": {
        "id": "zbue7nUejsJQ"
      }
    },
    {
      "cell_type": "markdown",
      "source": [
        "Unknown word are word that is not used for training. For unkown word we assign a word called UNK and train those word's probabilities on these."
      ],
      "metadata": {
        "id": "K25gCTOOlCIZ"
      }
    },
    {
      "cell_type": "markdown",
      "source": [
        "Explain the following\n",
        "a. Closed Vocabulary System\n",
        "b. Open Vocabulary System"
      ],
      "metadata": {
        "id": "DFJWfsMXoTyp"
      }
    },
    {
      "cell_type": "markdown",
      "source": [
        "####Closed vocabulary System\n",
        "In this we already knows the word that can occur in the text.\n",
        "\n",
        "####Open Vocabulary System\n",
        "In this system, system care about the unkown word."
      ],
      "metadata": {
        "id": "mcJuorFUolyJ"
      }
    },
    {
      "cell_type": "markdown",
      "source": [
        "Calculate the reconstituted counts for the following bigrams, where vocabulary = 1446\n",
        "\n",
        "a. i, want\n",
        "\n",
        "b. i food\n",
        "\n",
        "c. food spend"
      ],
      "metadata": {
        "id": "3pVUteeOtG5g"
      }
    },
    {
      "cell_type": "code",
      "source": [
        "import pandas as pd"
      ],
      "metadata": {
        "id": "54kV9KqKvaLH"
      },
      "execution_count": 55,
      "outputs": []
    },
    {
      "cell_type": "code",
      "source": [
        "bigram_count = [\n",
        "    [0.002, 0.33, 0, 0.0036, 0, 0, 0, 0.00079],\n",
        "    [0.0022, 0, 0.66, 0.0011, 0.0065, 0.0065, 0.0054, 0.0011],\n",
        "    [0.00083, 0, 0.0017, 0.28, 0.00083, 0, 0.0025, 0.087],\n",
        "    [0, 0, 0.0027, 0, 0.021, 0.0027, 0.056, 0],\n",
        "    [0.0063, 0, 0, 0, 0, 0.52, 0.0063, 0],\n",
        "    [0.014, 0, 0.014, 0, 0.00092, 0.0037, 0, 0],\n",
        "    [0.0059, 0, 0, 0, 0, 0.0029, 0, 0],\n",
        "    [0.0036, 0, 0.0036, 0, 0, 0, 0, 0]\n",
        "]\n",
        "unigram_count = [2533, 927, 2417, 746, 158, 1093, 341, 278]\n",
        "vocabulary = [\"i\" ,\"want\" ,\"to\" ,\"eat\" ,\"chinese\" ,\"food\" ,\"lunch\" ,\"spend\"]"
      ],
      "metadata": {
        "id": "m2J2E8rlpob5"
      },
      "execution_count": 64,
      "outputs": []
    },
    {
      "cell_type": "code",
      "source": [
        "df_unigram = pd.Series(unigram_count, index = vocabulary)\n",
        "df_unigram"
      ],
      "metadata": {
        "colab": {
          "base_uri": "https://localhost:8080/"
        },
        "id": "QKWDszQnoVko",
        "outputId": "1fb4381d-1cb6-42d0-b6a9-baf914888fa7"
      },
      "execution_count": 65,
      "outputs": [
        {
          "output_type": "execute_result",
          "data": {
            "text/plain": [
              "i          2533\n",
              "want        927\n",
              "to         2417\n",
              "eat         746\n",
              "chinese     158\n",
              "food       1093\n",
              "lunch       341\n",
              "spend       278\n",
              "dtype: int64"
            ]
          },
          "metadata": {},
          "execution_count": 65
        }
      ]
    },
    {
      "cell_type": "code",
      "source": [
        "df_bigram = pd.DataFrame(bigram_count, columns=vocabulary, index=vocabulary)\n",
        "df_bigram"
      ],
      "metadata": {
        "colab": {
          "base_uri": "https://localhost:8080/",
          "height": 300
        },
        "id": "mHe15M4qoQAJ",
        "outputId": "c67ffc31-716c-4afd-b41e-7e9972785d29"
      },
      "execution_count": 66,
      "outputs": [
        {
          "output_type": "execute_result",
          "data": {
            "text/plain": [
              "               i  want      to     eat  chinese    food   lunch    spend\n",
              "i        0.00200  0.33  0.0000  0.0036  0.00000  0.0000  0.0000  0.00079\n",
              "want     0.00220  0.00  0.6600  0.0011  0.00650  0.0065  0.0054  0.00110\n",
              "to       0.00083  0.00  0.0017  0.2800  0.00083  0.0000  0.0025  0.08700\n",
              "eat      0.00000  0.00  0.0027  0.0000  0.02100  0.0027  0.0560  0.00000\n",
              "chinese  0.00630  0.00  0.0000  0.0000  0.00000  0.5200  0.0063  0.00000\n",
              "food     0.01400  0.00  0.0140  0.0000  0.00092  0.0037  0.0000  0.00000\n",
              "lunch    0.00590  0.00  0.0000  0.0000  0.00000  0.0029  0.0000  0.00000\n",
              "spend    0.00360  0.00  0.0036  0.0000  0.00000  0.0000  0.0000  0.00000"
            ],
            "text/html": [
              "\n",
              "\n",
              "  <div id=\"df-c1a99c8a-bd70-47e2-9e09-24e2e7d29a94\">\n",
              "    <div class=\"colab-df-container\">\n",
              "      <div>\n",
              "<style scoped>\n",
              "    .dataframe tbody tr th:only-of-type {\n",
              "        vertical-align: middle;\n",
              "    }\n",
              "\n",
              "    .dataframe tbody tr th {\n",
              "        vertical-align: top;\n",
              "    }\n",
              "\n",
              "    .dataframe thead th {\n",
              "        text-align: right;\n",
              "    }\n",
              "</style>\n",
              "<table border=\"1\" class=\"dataframe\">\n",
              "  <thead>\n",
              "    <tr style=\"text-align: right;\">\n",
              "      <th></th>\n",
              "      <th>i</th>\n",
              "      <th>want</th>\n",
              "      <th>to</th>\n",
              "      <th>eat</th>\n",
              "      <th>chinese</th>\n",
              "      <th>food</th>\n",
              "      <th>lunch</th>\n",
              "      <th>spend</th>\n",
              "    </tr>\n",
              "  </thead>\n",
              "  <tbody>\n",
              "    <tr>\n",
              "      <th>i</th>\n",
              "      <td>0.00200</td>\n",
              "      <td>0.33</td>\n",
              "      <td>0.0000</td>\n",
              "      <td>0.0036</td>\n",
              "      <td>0.00000</td>\n",
              "      <td>0.0000</td>\n",
              "      <td>0.0000</td>\n",
              "      <td>0.00079</td>\n",
              "    </tr>\n",
              "    <tr>\n",
              "      <th>want</th>\n",
              "      <td>0.00220</td>\n",
              "      <td>0.00</td>\n",
              "      <td>0.6600</td>\n",
              "      <td>0.0011</td>\n",
              "      <td>0.00650</td>\n",
              "      <td>0.0065</td>\n",
              "      <td>0.0054</td>\n",
              "      <td>0.00110</td>\n",
              "    </tr>\n",
              "    <tr>\n",
              "      <th>to</th>\n",
              "      <td>0.00083</td>\n",
              "      <td>0.00</td>\n",
              "      <td>0.0017</td>\n",
              "      <td>0.2800</td>\n",
              "      <td>0.00083</td>\n",
              "      <td>0.0000</td>\n",
              "      <td>0.0025</td>\n",
              "      <td>0.08700</td>\n",
              "    </tr>\n",
              "    <tr>\n",
              "      <th>eat</th>\n",
              "      <td>0.00000</td>\n",
              "      <td>0.00</td>\n",
              "      <td>0.0027</td>\n",
              "      <td>0.0000</td>\n",
              "      <td>0.02100</td>\n",
              "      <td>0.0027</td>\n",
              "      <td>0.0560</td>\n",
              "      <td>0.00000</td>\n",
              "    </tr>\n",
              "    <tr>\n",
              "      <th>chinese</th>\n",
              "      <td>0.00630</td>\n",
              "      <td>0.00</td>\n",
              "      <td>0.0000</td>\n",
              "      <td>0.0000</td>\n",
              "      <td>0.00000</td>\n",
              "      <td>0.5200</td>\n",
              "      <td>0.0063</td>\n",
              "      <td>0.00000</td>\n",
              "    </tr>\n",
              "    <tr>\n",
              "      <th>food</th>\n",
              "      <td>0.01400</td>\n",
              "      <td>0.00</td>\n",
              "      <td>0.0140</td>\n",
              "      <td>0.0000</td>\n",
              "      <td>0.00092</td>\n",
              "      <td>0.0037</td>\n",
              "      <td>0.0000</td>\n",
              "      <td>0.00000</td>\n",
              "    </tr>\n",
              "    <tr>\n",
              "      <th>lunch</th>\n",
              "      <td>0.00590</td>\n",
              "      <td>0.00</td>\n",
              "      <td>0.0000</td>\n",
              "      <td>0.0000</td>\n",
              "      <td>0.00000</td>\n",
              "      <td>0.0029</td>\n",
              "      <td>0.0000</td>\n",
              "      <td>0.00000</td>\n",
              "    </tr>\n",
              "    <tr>\n",
              "      <th>spend</th>\n",
              "      <td>0.00360</td>\n",
              "      <td>0.00</td>\n",
              "      <td>0.0036</td>\n",
              "      <td>0.0000</td>\n",
              "      <td>0.00000</td>\n",
              "      <td>0.0000</td>\n",
              "      <td>0.0000</td>\n",
              "      <td>0.00000</td>\n",
              "    </tr>\n",
              "  </tbody>\n",
              "</table>\n",
              "</div>\n",
              "      <button class=\"colab-df-convert\" onclick=\"convertToInteractive('df-c1a99c8a-bd70-47e2-9e09-24e2e7d29a94')\"\n",
              "              title=\"Convert this dataframe to an interactive table.\"\n",
              "              style=\"display:none;\">\n",
              "\n",
              "  <svg xmlns=\"http://www.w3.org/2000/svg\" height=\"24px\"viewBox=\"0 0 24 24\"\n",
              "       width=\"24px\">\n",
              "    <path d=\"M0 0h24v24H0V0z\" fill=\"none\"/>\n",
              "    <path d=\"M18.56 5.44l.94 2.06.94-2.06 2.06-.94-2.06-.94-.94-2.06-.94 2.06-2.06.94zm-11 1L8.5 8.5l.94-2.06 2.06-.94-2.06-.94L8.5 2.5l-.94 2.06-2.06.94zm10 10l.94 2.06.94-2.06 2.06-.94-2.06-.94-.94-2.06-.94 2.06-2.06.94z\"/><path d=\"M17.41 7.96l-1.37-1.37c-.4-.4-.92-.59-1.43-.59-.52 0-1.04.2-1.43.59L10.3 9.45l-7.72 7.72c-.78.78-.78 2.05 0 2.83L4 21.41c.39.39.9.59 1.41.59.51 0 1.02-.2 1.41-.59l7.78-7.78 2.81-2.81c.8-.78.8-2.07 0-2.86zM5.41 20L4 18.59l7.72-7.72 1.47 1.35L5.41 20z\"/>\n",
              "  </svg>\n",
              "      </button>\n",
              "\n",
              "\n",
              "\n",
              "    <div id=\"df-eb07979b-c5da-43bb-9a95-46c58c721683\">\n",
              "      <button class=\"colab-df-quickchart\" onclick=\"quickchart('df-eb07979b-c5da-43bb-9a95-46c58c721683')\"\n",
              "              title=\"Suggest charts.\"\n",
              "              style=\"display:none;\">\n",
              "\n",
              "<svg xmlns=\"http://www.w3.org/2000/svg\" height=\"24px\"viewBox=\"0 0 24 24\"\n",
              "     width=\"24px\">\n",
              "    <g>\n",
              "        <path d=\"M19 3H5c-1.1 0-2 .9-2 2v14c0 1.1.9 2 2 2h14c1.1 0 2-.9 2-2V5c0-1.1-.9-2-2-2zM9 17H7v-7h2v7zm4 0h-2V7h2v10zm4 0h-2v-4h2v4z\"/>\n",
              "    </g>\n",
              "</svg>\n",
              "      </button>\n",
              "    </div>\n",
              "\n",
              "<style>\n",
              "  .colab-df-quickchart {\n",
              "    background-color: #E8F0FE;\n",
              "    border: none;\n",
              "    border-radius: 50%;\n",
              "    cursor: pointer;\n",
              "    display: none;\n",
              "    fill: #1967D2;\n",
              "    height: 32px;\n",
              "    padding: 0 0 0 0;\n",
              "    width: 32px;\n",
              "  }\n",
              "\n",
              "  .colab-df-quickchart:hover {\n",
              "    background-color: #E2EBFA;\n",
              "    box-shadow: 0px 1px 2px rgba(60, 64, 67, 0.3), 0px 1px 3px 1px rgba(60, 64, 67, 0.15);\n",
              "    fill: #174EA6;\n",
              "  }\n",
              "\n",
              "  [theme=dark] .colab-df-quickchart {\n",
              "    background-color: #3B4455;\n",
              "    fill: #D2E3FC;\n",
              "  }\n",
              "\n",
              "  [theme=dark] .colab-df-quickchart:hover {\n",
              "    background-color: #434B5C;\n",
              "    box-shadow: 0px 1px 3px 1px rgba(0, 0, 0, 0.15);\n",
              "    filter: drop-shadow(0px 1px 2px rgba(0, 0, 0, 0.3));\n",
              "    fill: #FFFFFF;\n",
              "  }\n",
              "</style>\n",
              "\n",
              "    <script>\n",
              "      async function quickchart(key) {\n",
              "        const containerElement = document.querySelector('#' + key);\n",
              "        const charts = await google.colab.kernel.invokeFunction(\n",
              "            'suggestCharts', [key], {});\n",
              "      }\n",
              "    </script>\n",
              "\n",
              "      <script>\n",
              "\n",
              "function displayQuickchartButton(domScope) {\n",
              "  let quickchartButtonEl =\n",
              "    domScope.querySelector('#df-eb07979b-c5da-43bb-9a95-46c58c721683 button.colab-df-quickchart');\n",
              "  quickchartButtonEl.style.display =\n",
              "    google.colab.kernel.accessAllowed ? 'block' : 'none';\n",
              "}\n",
              "\n",
              "        displayQuickchartButton(document);\n",
              "      </script>\n",
              "      <style>\n",
              "    .colab-df-container {\n",
              "      display:flex;\n",
              "      flex-wrap:wrap;\n",
              "      gap: 12px;\n",
              "    }\n",
              "\n",
              "    .colab-df-convert {\n",
              "      background-color: #E8F0FE;\n",
              "      border: none;\n",
              "      border-radius: 50%;\n",
              "      cursor: pointer;\n",
              "      display: none;\n",
              "      fill: #1967D2;\n",
              "      height: 32px;\n",
              "      padding: 0 0 0 0;\n",
              "      width: 32px;\n",
              "    }\n",
              "\n",
              "    .colab-df-convert:hover {\n",
              "      background-color: #E2EBFA;\n",
              "      box-shadow: 0px 1px 2px rgba(60, 64, 67, 0.3), 0px 1px 3px 1px rgba(60, 64, 67, 0.15);\n",
              "      fill: #174EA6;\n",
              "    }\n",
              "\n",
              "    [theme=dark] .colab-df-convert {\n",
              "      background-color: #3B4455;\n",
              "      fill: #D2E3FC;\n",
              "    }\n",
              "\n",
              "    [theme=dark] .colab-df-convert:hover {\n",
              "      background-color: #434B5C;\n",
              "      box-shadow: 0px 1px 3px 1px rgba(0, 0, 0, 0.15);\n",
              "      filter: drop-shadow(0px 1px 2px rgba(0, 0, 0, 0.3));\n",
              "      fill: #FFFFFF;\n",
              "    }\n",
              "  </style>\n",
              "\n",
              "      <script>\n",
              "        const buttonEl =\n",
              "          document.querySelector('#df-c1a99c8a-bd70-47e2-9e09-24e2e7d29a94 button.colab-df-convert');\n",
              "        buttonEl.style.display =\n",
              "          google.colab.kernel.accessAllowed ? 'block' : 'none';\n",
              "\n",
              "        async function convertToInteractive(key) {\n",
              "          const element = document.querySelector('#df-c1a99c8a-bd70-47e2-9e09-24e2e7d29a94');\n",
              "          const dataTable =\n",
              "            await google.colab.kernel.invokeFunction('convertToInteractive',\n",
              "                                                     [key], {});\n",
              "          if (!dataTable) return;\n",
              "\n",
              "          const docLinkHtml = 'Like what you see? Visit the ' +\n",
              "            '<a target=\"_blank\" href=https://colab.research.google.com/notebooks/data_table.ipynb>data table notebook</a>'\n",
              "            + ' to learn more about interactive tables.';\n",
              "          element.innerHTML = '';\n",
              "          dataTable['output_type'] = 'display_data';\n",
              "          await google.colab.output.renderOutput(dataTable, element);\n",
              "          const docLink = document.createElement('div');\n",
              "          docLink.innerHTML = docLinkHtml;\n",
              "          element.appendChild(docLink);\n",
              "        }\n",
              "      </script>\n",
              "    </div>\n",
              "  </div>\n"
            ]
          },
          "metadata": {},
          "execution_count": 66
        }
      ]
    },
    {
      "cell_type": "code",
      "source": [
        "list(df_bigram.index)"
      ],
      "metadata": {
        "colab": {
          "base_uri": "https://localhost:8080/"
        },
        "id": "VEOmlL361GMw",
        "outputId": "fbe2337d-6c6d-41b0-d97b-e17ca2b463ac"
      },
      "execution_count": 67,
      "outputs": [
        {
          "output_type": "execute_result",
          "data": {
            "text/plain": [
              "['i', 'want', 'to', 'eat', 'chinese', 'food', 'lunch', 'spend']"
            ]
          },
          "metadata": {},
          "execution_count": 67
        }
      ]
    },
    {
      "cell_type": "code",
      "source": [
        "for col in list(df_bigram.columns):\n",
        "  for row in list(df_bigram.index):\n",
        "    df_bigram[col].loc[row] = ((df_bigram[col].loc[row] + 1) * df_unigram[col]) / (df_unigram[col] + len(df_unigram))"
      ],
      "metadata": {
        "id": "rBenZeuNwuF-"
      },
      "execution_count": 68,
      "outputs": []
    },
    {
      "cell_type": "code",
      "source": [
        "df_bigram"
      ],
      "metadata": {
        "colab": {
          "base_uri": "https://localhost:8080/",
          "height": 300
        },
        "id": "nfgSU7BM1ynW",
        "outputId": "d210183b-3952-4460-b82b-4483cf35638b"
      },
      "execution_count": 69,
      "outputs": [
        {
          "output_type": "execute_result",
          "data": {
            "text/plain": [
              "                i      want        to       eat   chinese      food     lunch  \\\n",
              "i        0.998845  1.318620  0.996701  0.992952  0.951807  0.992734  0.977077   \n",
              "want     0.999045  0.991444  1.654524  0.990478  0.957994  0.999187  0.982354   \n",
              "to       0.997679  0.991444  0.998395  1.266419  0.952597  0.992734  0.979520   \n",
              "eat      0.996852  0.991444  0.999392  0.989390  0.971795  0.995414  1.031794   \n",
              "chinese  1.003132  0.991444  0.996701  0.989390  0.951807  1.508955  0.983233   \n",
              "food     1.010808  0.991444  1.010655  0.989390  0.952683  0.996407  0.977077   \n",
              "lunch    1.002733  0.991444  0.996701  0.989390  0.951807  0.995613  0.977077   \n",
              "spend    1.000440  0.991444  1.000289  0.989390  0.951807  0.992734  0.977077   \n",
              "\n",
              "            spend  \n",
              "i        0.972796  \n",
              "want     0.973097  \n",
              "to       1.056594  \n",
              "eat      0.972028  \n",
              "chinese  0.972028  \n",
              "food     0.972028  \n",
              "lunch    0.972028  \n",
              "spend    0.972028  "
            ],
            "text/html": [
              "\n",
              "\n",
              "  <div id=\"df-bb8a774d-9bbc-4d72-81a4-11f6ed704ecd\">\n",
              "    <div class=\"colab-df-container\">\n",
              "      <div>\n",
              "<style scoped>\n",
              "    .dataframe tbody tr th:only-of-type {\n",
              "        vertical-align: middle;\n",
              "    }\n",
              "\n",
              "    .dataframe tbody tr th {\n",
              "        vertical-align: top;\n",
              "    }\n",
              "\n",
              "    .dataframe thead th {\n",
              "        text-align: right;\n",
              "    }\n",
              "</style>\n",
              "<table border=\"1\" class=\"dataframe\">\n",
              "  <thead>\n",
              "    <tr style=\"text-align: right;\">\n",
              "      <th></th>\n",
              "      <th>i</th>\n",
              "      <th>want</th>\n",
              "      <th>to</th>\n",
              "      <th>eat</th>\n",
              "      <th>chinese</th>\n",
              "      <th>food</th>\n",
              "      <th>lunch</th>\n",
              "      <th>spend</th>\n",
              "    </tr>\n",
              "  </thead>\n",
              "  <tbody>\n",
              "    <tr>\n",
              "      <th>i</th>\n",
              "      <td>0.998845</td>\n",
              "      <td>1.318620</td>\n",
              "      <td>0.996701</td>\n",
              "      <td>0.992952</td>\n",
              "      <td>0.951807</td>\n",
              "      <td>0.992734</td>\n",
              "      <td>0.977077</td>\n",
              "      <td>0.972796</td>\n",
              "    </tr>\n",
              "    <tr>\n",
              "      <th>want</th>\n",
              "      <td>0.999045</td>\n",
              "      <td>0.991444</td>\n",
              "      <td>1.654524</td>\n",
              "      <td>0.990478</td>\n",
              "      <td>0.957994</td>\n",
              "      <td>0.999187</td>\n",
              "      <td>0.982354</td>\n",
              "      <td>0.973097</td>\n",
              "    </tr>\n",
              "    <tr>\n",
              "      <th>to</th>\n",
              "      <td>0.997679</td>\n",
              "      <td>0.991444</td>\n",
              "      <td>0.998395</td>\n",
              "      <td>1.266419</td>\n",
              "      <td>0.952597</td>\n",
              "      <td>0.992734</td>\n",
              "      <td>0.979520</td>\n",
              "      <td>1.056594</td>\n",
              "    </tr>\n",
              "    <tr>\n",
              "      <th>eat</th>\n",
              "      <td>0.996852</td>\n",
              "      <td>0.991444</td>\n",
              "      <td>0.999392</td>\n",
              "      <td>0.989390</td>\n",
              "      <td>0.971795</td>\n",
              "      <td>0.995414</td>\n",
              "      <td>1.031794</td>\n",
              "      <td>0.972028</td>\n",
              "    </tr>\n",
              "    <tr>\n",
              "      <th>chinese</th>\n",
              "      <td>1.003132</td>\n",
              "      <td>0.991444</td>\n",
              "      <td>0.996701</td>\n",
              "      <td>0.989390</td>\n",
              "      <td>0.951807</td>\n",
              "      <td>1.508955</td>\n",
              "      <td>0.983233</td>\n",
              "      <td>0.972028</td>\n",
              "    </tr>\n",
              "    <tr>\n",
              "      <th>food</th>\n",
              "      <td>1.010808</td>\n",
              "      <td>0.991444</td>\n",
              "      <td>1.010655</td>\n",
              "      <td>0.989390</td>\n",
              "      <td>0.952683</td>\n",
              "      <td>0.996407</td>\n",
              "      <td>0.977077</td>\n",
              "      <td>0.972028</td>\n",
              "    </tr>\n",
              "    <tr>\n",
              "      <th>lunch</th>\n",
              "      <td>1.002733</td>\n",
              "      <td>0.991444</td>\n",
              "      <td>0.996701</td>\n",
              "      <td>0.989390</td>\n",
              "      <td>0.951807</td>\n",
              "      <td>0.995613</td>\n",
              "      <td>0.977077</td>\n",
              "      <td>0.972028</td>\n",
              "    </tr>\n",
              "    <tr>\n",
              "      <th>spend</th>\n",
              "      <td>1.000440</td>\n",
              "      <td>0.991444</td>\n",
              "      <td>1.000289</td>\n",
              "      <td>0.989390</td>\n",
              "      <td>0.951807</td>\n",
              "      <td>0.992734</td>\n",
              "      <td>0.977077</td>\n",
              "      <td>0.972028</td>\n",
              "    </tr>\n",
              "  </tbody>\n",
              "</table>\n",
              "</div>\n",
              "      <button class=\"colab-df-convert\" onclick=\"convertToInteractive('df-bb8a774d-9bbc-4d72-81a4-11f6ed704ecd')\"\n",
              "              title=\"Convert this dataframe to an interactive table.\"\n",
              "              style=\"display:none;\">\n",
              "\n",
              "  <svg xmlns=\"http://www.w3.org/2000/svg\" height=\"24px\"viewBox=\"0 0 24 24\"\n",
              "       width=\"24px\">\n",
              "    <path d=\"M0 0h24v24H0V0z\" fill=\"none\"/>\n",
              "    <path d=\"M18.56 5.44l.94 2.06.94-2.06 2.06-.94-2.06-.94-.94-2.06-.94 2.06-2.06.94zm-11 1L8.5 8.5l.94-2.06 2.06-.94-2.06-.94L8.5 2.5l-.94 2.06-2.06.94zm10 10l.94 2.06.94-2.06 2.06-.94-2.06-.94-.94-2.06-.94 2.06-2.06.94z\"/><path d=\"M17.41 7.96l-1.37-1.37c-.4-.4-.92-.59-1.43-.59-.52 0-1.04.2-1.43.59L10.3 9.45l-7.72 7.72c-.78.78-.78 2.05 0 2.83L4 21.41c.39.39.9.59 1.41.59.51 0 1.02-.2 1.41-.59l7.78-7.78 2.81-2.81c.8-.78.8-2.07 0-2.86zM5.41 20L4 18.59l7.72-7.72 1.47 1.35L5.41 20z\"/>\n",
              "  </svg>\n",
              "      </button>\n",
              "\n",
              "\n",
              "\n",
              "    <div id=\"df-32bacbd0-7a29-4b06-ab1a-95bb74e3d32c\">\n",
              "      <button class=\"colab-df-quickchart\" onclick=\"quickchart('df-32bacbd0-7a29-4b06-ab1a-95bb74e3d32c')\"\n",
              "              title=\"Suggest charts.\"\n",
              "              style=\"display:none;\">\n",
              "\n",
              "<svg xmlns=\"http://www.w3.org/2000/svg\" height=\"24px\"viewBox=\"0 0 24 24\"\n",
              "     width=\"24px\">\n",
              "    <g>\n",
              "        <path d=\"M19 3H5c-1.1 0-2 .9-2 2v14c0 1.1.9 2 2 2h14c1.1 0 2-.9 2-2V5c0-1.1-.9-2-2-2zM9 17H7v-7h2v7zm4 0h-2V7h2v10zm4 0h-2v-4h2v4z\"/>\n",
              "    </g>\n",
              "</svg>\n",
              "      </button>\n",
              "    </div>\n",
              "\n",
              "<style>\n",
              "  .colab-df-quickchart {\n",
              "    background-color: #E8F0FE;\n",
              "    border: none;\n",
              "    border-radius: 50%;\n",
              "    cursor: pointer;\n",
              "    display: none;\n",
              "    fill: #1967D2;\n",
              "    height: 32px;\n",
              "    padding: 0 0 0 0;\n",
              "    width: 32px;\n",
              "  }\n",
              "\n",
              "  .colab-df-quickchart:hover {\n",
              "    background-color: #E2EBFA;\n",
              "    box-shadow: 0px 1px 2px rgba(60, 64, 67, 0.3), 0px 1px 3px 1px rgba(60, 64, 67, 0.15);\n",
              "    fill: #174EA6;\n",
              "  }\n",
              "\n",
              "  [theme=dark] .colab-df-quickchart {\n",
              "    background-color: #3B4455;\n",
              "    fill: #D2E3FC;\n",
              "  }\n",
              "\n",
              "  [theme=dark] .colab-df-quickchart:hover {\n",
              "    background-color: #434B5C;\n",
              "    box-shadow: 0px 1px 3px 1px rgba(0, 0, 0, 0.15);\n",
              "    filter: drop-shadow(0px 1px 2px rgba(0, 0, 0, 0.3));\n",
              "    fill: #FFFFFF;\n",
              "  }\n",
              "</style>\n",
              "\n",
              "    <script>\n",
              "      async function quickchart(key) {\n",
              "        const containerElement = document.querySelector('#' + key);\n",
              "        const charts = await google.colab.kernel.invokeFunction(\n",
              "            'suggestCharts', [key], {});\n",
              "      }\n",
              "    </script>\n",
              "\n",
              "      <script>\n",
              "\n",
              "function displayQuickchartButton(domScope) {\n",
              "  let quickchartButtonEl =\n",
              "    domScope.querySelector('#df-32bacbd0-7a29-4b06-ab1a-95bb74e3d32c button.colab-df-quickchart');\n",
              "  quickchartButtonEl.style.display =\n",
              "    google.colab.kernel.accessAllowed ? 'block' : 'none';\n",
              "}\n",
              "\n",
              "        displayQuickchartButton(document);\n",
              "      </script>\n",
              "      <style>\n",
              "    .colab-df-container {\n",
              "      display:flex;\n",
              "      flex-wrap:wrap;\n",
              "      gap: 12px;\n",
              "    }\n",
              "\n",
              "    .colab-df-convert {\n",
              "      background-color: #E8F0FE;\n",
              "      border: none;\n",
              "      border-radius: 50%;\n",
              "      cursor: pointer;\n",
              "      display: none;\n",
              "      fill: #1967D2;\n",
              "      height: 32px;\n",
              "      padding: 0 0 0 0;\n",
              "      width: 32px;\n",
              "    }\n",
              "\n",
              "    .colab-df-convert:hover {\n",
              "      background-color: #E2EBFA;\n",
              "      box-shadow: 0px 1px 2px rgba(60, 64, 67, 0.3), 0px 1px 3px 1px rgba(60, 64, 67, 0.15);\n",
              "      fill: #174EA6;\n",
              "    }\n",
              "\n",
              "    [theme=dark] .colab-df-convert {\n",
              "      background-color: #3B4455;\n",
              "      fill: #D2E3FC;\n",
              "    }\n",
              "\n",
              "    [theme=dark] .colab-df-convert:hover {\n",
              "      background-color: #434B5C;\n",
              "      box-shadow: 0px 1px 3px 1px rgba(0, 0, 0, 0.15);\n",
              "      filter: drop-shadow(0px 1px 2px rgba(0, 0, 0, 0.3));\n",
              "      fill: #FFFFFF;\n",
              "    }\n",
              "  </style>\n",
              "\n",
              "      <script>\n",
              "        const buttonEl =\n",
              "          document.querySelector('#df-bb8a774d-9bbc-4d72-81a4-11f6ed704ecd button.colab-df-convert');\n",
              "        buttonEl.style.display =\n",
              "          google.colab.kernel.accessAllowed ? 'block' : 'none';\n",
              "\n",
              "        async function convertToInteractive(key) {\n",
              "          const element = document.querySelector('#df-bb8a774d-9bbc-4d72-81a4-11f6ed704ecd');\n",
              "          const dataTable =\n",
              "            await google.colab.kernel.invokeFunction('convertToInteractive',\n",
              "                                                     [key], {});\n",
              "          if (!dataTable) return;\n",
              "\n",
              "          const docLinkHtml = 'Like what you see? Visit the ' +\n",
              "            '<a target=\"_blank\" href=https://colab.research.google.com/notebooks/data_table.ipynb>data table notebook</a>'\n",
              "            + ' to learn more about interactive tables.';\n",
              "          element.innerHTML = '';\n",
              "          dataTable['output_type'] = 'display_data';\n",
              "          await google.colab.output.renderOutput(dataTable, element);\n",
              "          const docLink = document.createElement('div');\n",
              "          docLink.innerHTML = docLinkHtml;\n",
              "          element.appendChild(docLink);\n",
              "        }\n",
              "      </script>\n",
              "    </div>\n",
              "  </div>\n"
            ]
          },
          "metadata": {},
          "execution_count": 69
        }
      ]
    },
    {
      "cell_type": "code",
      "source": [],
      "metadata": {
        "id": "K0n36neP8wE-"
      },
      "execution_count": null,
      "outputs": []
    }
  ]
}