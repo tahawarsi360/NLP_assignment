{
  "nbformat": 4,
  "nbformat_minor": 0,
  "metadata": {
    "colab": {
      "provenance": [],
      "authorship_tag": "ABX9TyMZWcGgbKNPzBljxaQBv//a",
      "include_colab_link": true
    },
    "kernelspec": {
      "name": "python3",
      "display_name": "Python 3"
    },
    "language_info": {
      "name": "python"
    }
  },
  "cells": [
    {
      "cell_type": "markdown",
      "metadata": {
        "id": "view-in-github",
        "colab_type": "text"
      },
      "source": [
        "<a href=\"https://colab.research.google.com/github/tahawarsi360/NLP_assignment/blob/main/Activity11.ipynb\" target=\"_parent\"><img src=\"https://colab.research.google.com/assets/colab-badge.svg\" alt=\"Open In Colab\"/></a>"
      ]
    },
    {
      "cell_type": "markdown",
      "source": [
        "### What is recommender system? Explain the following filtering techniques.\n",
        "#### i. Content based filtering\n",
        "#### ii. Collaborative filtering\n",
        "#### iii. Hybrid Filtering\n",
        "#### iv. Knowledge based filtering"
      ],
      "metadata": {
        "id": "oO7aNLj5cPO_"
      }
    },
    {
      "cell_type": "markdown",
      "source": [
        "#### Content based filtering:\n",
        "Filtering method suggest content that you buy or consume based the content you consume or buy. For example suggesting movies based on genre of previus movies you had watch.\n",
        "\n",
        "#### Collaborative filtering\n",
        "It suggest recommendation based on the other user, mean that if user A had interact with content x and y. User B had interact with content x it will recommend content y based user A history.\n",
        "\n",
        "#### Hybrid Filtering\n",
        "Hybrid filtering utilizes both method, overcoming thier limitation by suggesting new user content based on content based collaboration and old user collaborative filtering.\n",
        "\n",
        "#### Knowledge based filtering\n",
        "In this filtering method system uses predefined rules. based on domain knowledge."
      ],
      "metadata": {
        "id": "L1zcJu9tcbhF"
      }
    },
    {
      "cell_type": "markdown",
      "source": [
        "### Question 2:\n",
        "When a search engine returns 50 pages, only 27 of them were relevant to the query,\n",
        "while the engine fails to return remaining 99 additional relevant pages. What would be\n",
        "precision and recall for the search result."
      ],
      "metadata": {
        "id": "BuYnhX7VCKFK"
      }
    },
    {
      "cell_type": "code",
      "execution_count": null,
      "metadata": {
        "colab": {
          "base_uri": "https://localhost:8080/"
        },
        "id": "RpPPpsMdYaCT",
        "outputId": "93328714-0a6c-4515-e2fd-7d367eb28413"
      },
      "outputs": [
        {
          "output_type": "execute_result",
          "data": {
            "text/plain": [
              "0.54"
            ]
          },
          "metadata": {},
          "execution_count": 1
        }
      ],
      "source": [
        "precision = 27/50\n",
        "precision"
      ]
    },
    {
      "cell_type": "code",
      "source": [
        "recall = 27/(27+99)\n",
        "recall"
      ],
      "metadata": {
        "colab": {
          "base_uri": "https://localhost:8080/"
        },
        "id": "4pE_Ao3ECaop",
        "outputId": "89003b5d-fb12-4475-95ad-e3f2b1adc726"
      },
      "execution_count": null,
      "outputs": [
        {
          "output_type": "execute_result",
          "data": {
            "text/plain": [
              "0.21428571428571427"
            ]
          },
          "metadata": {},
          "execution_count": 2
        }
      ]
    },
    {
      "cell_type": "markdown",
      "source": [
        "###Question 4:\n",
        "Consider an e-commerce website which has m customers and n products. For every\n",
        "customer you have information about the products that were purchase by that\n",
        "customer. You are interested in finding the customers which have very similar interests\n",
        "so that you can recommend the products purchased by one customer to another\n",
        "similar customer. Using the ideas that you have learned in the course, suggest which\n",
        "type of machine learning method and/or algorithm you can apply? Also write some of\n",
        "the features you would use in the training of the algorithm."
      ],
      "metadata": {
        "id": "V4wxywRhEhB5"
      }
    },
    {
      "cell_type": "markdown",
      "source": [
        "We can use collaborative recommendation system for this task. The Machine learning method that we can used unsupervised clustering so that m having similiar n product(features) constitute a cluster.\n",
        "Faetures can be product they buy, in thier cart, they interact."
      ],
      "metadata": {
        "id": "Ct-pzXOBYaiB"
      }
    }
  ]
}